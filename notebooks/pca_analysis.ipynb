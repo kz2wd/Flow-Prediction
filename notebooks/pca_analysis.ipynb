{
 "cells": [
  {
   "cell_type": "code",
   "execution_count": null,
   "id": "fcec909e-bde7-4c80-83cc-5539422cf50c",
   "metadata": {},
   "outputs": [],
   "source": [
    "import numpy as np\n",
    "from space_exploration.beans.dataset_bean import Dataset\n",
    "\n",
    "dataset_name = \"re200-sr05etot\"\n",
    "dataset = Dataset.get_dataset_or_fail(dataset_name)\n",
    "\n",
    "data = dataset.y\n"
   ]
  },
  {
   "cell_type": "code",
   "execution_count": 22,
   "id": "f04e3ffd-b2c1-4360-babd-fe3523b6af34",
   "metadata": {},
   "outputs": [],
   "source": [
    "batch_size = 32\n",
    "reshaped = data[:20001 - (20001 % batch_size)].reshape((-1, batch_size, 3 * 64 * 64 * 64))"
   ]
  },
  {
   "cell_type": "code",
   "execution_count": 23,
   "id": "58a91b15-79e2-41ca-a3b0-67cdd19e9723",
   "metadata": {},
   "outputs": [],
   "source": [
    "np_data = reshaped.compute()"
   ]
  },
  {
   "cell_type": "code",
   "execution_count": 25,
   "id": "82ec843f-3744-4547-b518-f993950c106f",
   "metadata": {},
   "outputs": [],
   "source": [
    "from sklearn.decomposition import IncrementalPCA\n",
    "\n",
    "ipca = IncrementalPCA(n_components=32, batch_size=32)\n",
    "for batch in np_data:  # each batch shape: [32, 3*D*H*W]\n",
    "    ipca.partial_fit(batch)"
   ]
  },
  {
   "cell_type": "code",
   "execution_count": null,
   "id": "a4ba0288-fa53-4027-aff9-021a014c3d37",
   "metadata": {},
   "outputs": [],
   "source": []
  }
 ],
 "metadata": {
  "kernelspec": {
   "display_name": "Python 3 (ipykernel)",
   "language": "python",
   "name": "python3"
  },
  "language_info": {
   "codemirror_mode": {
    "name": "ipython",
    "version": 3
   },
   "file_extension": ".py",
   "mimetype": "text/x-python",
   "name": "python",
   "nbconvert_exporter": "python",
   "pygments_lexer": "ipython3",
   "version": "3.10.12"
  }
 },
 "nbformat": 4,
 "nbformat_minor": 5
}
