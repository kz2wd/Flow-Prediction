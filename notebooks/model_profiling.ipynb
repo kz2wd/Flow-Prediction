{
 "cells": [
  {
   "cell_type": "code",
   "execution_count": 1,
   "id": "8f823d66-b8cb-418a-bdb7-9f259a6e2334",
   "metadata": {},
   "outputs": [],
   "source": [
    "from space_exploration.models.AllModels import ModelReferences\n",
    "from space_exploration.training.training import ModelTraining\n"
   ]
  },
  {
   "cell_type": "code",
   "execution_count": 2,
   "id": "699dcd3d-bf87-4479-8179-35cc6f0b1763",
   "metadata": {},
   "outputs": [
    {
     "name": "stdout",
     "output_type": "stream",
     "text": [
      "Loading std & mean of dataset re200-sr05etot\n",
      "Loading stds & means of dataset re200-sr05etot\n",
      "⌛ Initializing Dataset...\n",
      "X...\n",
      "[########################################] | 100% Completed | 103.38 ms\n",
      "Y...\n",
      "[########################################] | 100% Completed | 1.03 sms\n",
      "\n",
      "Epoch 1/50\n"
     ]
    },
    {
     "name": "stderr",
     "output_type": "stream",
     "text": [
      "Training: 100%|█████████████████████████████████████████████████████████████████████████| 10/10 [00:10<00:00,  1.03s/it]\n",
      "Validating: 100%|█████████████████████████████████████████████████████████████████████████| 3/3 [00:00<00:00,  3.30it/s]\n"
     ]
    },
    {
     "name": "stdout",
     "output_type": "stream",
     "text": [
      "[Epoch 1] train_gen_loss=1.0275, train_disc_loss=0.6506, val_gen_loss=0.9191, val_disc_loss=0.6830, time=11.25s\n",
      "\n",
      "🚩 Stopping training due to user request\n",
      "🕓 Uploading best model\n",
      "🏃 View run GAN_Profiling at: http://localhost:5000/#/experiments/0/runs/b31f959e98d84e5c8c11a33cd6230bfb\n",
      "🧪 View experiment at: http://localhost:5000/#/experiments/0\n"
     ]
    },
    {
     "name": "stderr",
     "output_type": "stream",
     "text": [
      "\n",
      "KeyboardInterrupt\n",
      "\n"
     ]
    }
   ],
   "source": [
    "training = ModelTraining(\"A\", \"re200-sr05etot\", \"COMPONENT_NORMALIZE\", \"Y_ALONG_COMPONENT_NORMALIZE\", 4, data_amount=50, profile=True, name=\"GAN_Profiling\")\n",
    "training.run()\n"
   ]
  },
  {
   "cell_type": "code",
   "execution_count": 3,
   "id": "8afb2e5f-7455-44c1-b104-f61410352abf",
   "metadata": {},
   "outputs": [
    {
     "name": "stdout",
     "output_type": "stream",
     "text": [
      "Loading std & mean of dataset re200-sr05etot\n",
      "Loading stds & means of dataset re200-sr05etot\n",
      "⌛ Initializing Dataset...\n",
      "X...\n",
      "[########################################] | 100% Completed | 104.95 ms\n",
      "Y...\n",
      "[########################################] | 100% Completed | 926.50 ms\n",
      "\n",
      "Epoch 1/50\n"
     ]
    },
    {
     "name": "stderr",
     "output_type": "stream",
     "text": [
      "Training: 100%|█████████████████████████████████████████████████████████████████████████| 10/10 [00:09<00:00,  1.05it/s]\n",
      "Validating: 100%|█████████████████████████████████████████████████████████████████████████| 3/3 [00:00<00:00,  3.39it/s]\n"
     ]
    },
    {
     "name": "stdout",
     "output_type": "stream",
     "text": [
      "[Epoch 1] train_gen_loss=1.0098, val_gen_loss=0.9335, time=10.46s\n",
      "\n",
      "🚩 Stopping training due to user request\n",
      "🕓 Uploading best model\n",
      "🏃 View run WALL_DECODER_Profiling at: http://localhost:5000/#/experiments/0/runs/1a490be5ee05439c8cc7e1201c7e2703\n",
      "🧪 View experiment at: http://localhost:5000/#/experiments/0\n"
     ]
    },
    {
     "name": "stderr",
     "output_type": "stream",
     "text": [
      "\n",
      "KeyboardInterrupt\n",
      "\n"
     ]
    }
   ],
   "source": [
    "training = ModelTraining(\"WALL_DECODER\", \"re200-sr05etot\", \"COMPONENT_NORMALIZE\", \"Y_ALONG_COMPONENT_NORMALIZE\", 4, data_amount=50, profile=True, name=\"WALL_DECODER_Profiling\")\n",
    "training.run()\n"
   ]
  },
  {
   "cell_type": "code",
   "execution_count": 5,
   "id": "8ac77a88-a534-41e0-ae85-19a393ae2003",
   "metadata": {},
   "outputs": [
    {
     "name": "stdout",
     "output_type": "stream",
     "text": [
      "Loading std & mean of dataset re200-sr05etot\n",
      "Loading stds & means of dataset re200-sr05etot\n",
      "⌛ Initializing Dataset...\n",
      "X...\n",
      "[########################################] | 100% Completed | 736.08 ms\n",
      "Y...\n",
      "[########################################] | 100% Completed | 1.03 sms\n",
      "\n",
      "Epoch 1/50\n"
     ]
    },
    {
     "name": "stderr",
     "output_type": "stream",
     "text": [
      "Training: 100%|█████████████████████████████████████████████████████████████████████████| 10/10 [00:01<00:00,  5.09it/s]\n",
      "Validating: 100%|█████████████████████████████████████████████████████████████████████████| 3/3 [00:00<00:00,  6.06it/s]\n"
     ]
    },
    {
     "name": "stdout",
     "output_type": "stream",
     "text": [
      "[Epoch 1] train_gen_loss=1.1334, val_gen_loss=1.0697, time=2.49s\n",
      "\n",
      "🚩 Stopping training due to user request\n",
      "🕓 Uploading best model\n",
      "🏃 View run SIMPLE_UNET_Profiling at: http://localhost:5000/#/experiments/0/runs/1b62f50146e8451ea6604b981de86c7e\n",
      "🧪 View experiment at: http://localhost:5000/#/experiments/0\n"
     ]
    },
    {
     "name": "stderr",
     "output_type": "stream",
     "text": [
      "\n",
      "KeyboardInterrupt\n",
      "\n"
     ]
    }
   ],
   "source": [
    "training = ModelTraining(\"SIMPLE_UNET\", \"re200-sr05etot\", \"UNET_ADAPTER64\", \"Y_ALONG_COMPONENT_NORMALIZE\", 4, data_amount=50, profile=True, name=\"SIMPLE_UNET_Profiling\")\n",
    "training.run()"
   ]
  },
  {
   "cell_type": "code",
   "execution_count": null,
   "id": "2b2298ac-58df-44b6-9ec5-5a9597369dba",
   "metadata": {},
   "outputs": [],
   "source": []
  }
 ],
 "metadata": {
  "kernelspec": {
   "display_name": "Python 3 (ipykernel)",
   "language": "python",
   "name": "python3"
  },
  "language_info": {
   "codemirror_mode": {
    "name": "ipython",
    "version": 3
   },
   "file_extension": ".py",
   "mimetype": "text/x-python",
   "name": "python",
   "nbconvert_exporter": "python",
   "pygments_lexer": "ipython3",
   "version": "3.10.12"
  }
 },
 "nbformat": 4,
 "nbformat_minor": 5
}
