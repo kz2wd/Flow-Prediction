{
 "cells": [
  {
   "cell_type": "code",
   "execution_count": 1,
   "id": "bbae5f79-b07d-4098-b45c-223dd2f69d6a",
   "metadata": {},
   "outputs": [],
   "source": [
    "from space_exploration.beans.training_bean import Training\n",
    "from space_exploration.beans.dataset_bean import Dataset\n",
    "from space_exploration.training.training import ModelTraining\n",
    "from space_exploration.dataset.transforms.AllTransforms import TransformationReferences"
   ]
  },
  {
   "cell_type": "code",
   "execution_count": 4,
   "id": "060d7932-49d5-4635-bb9e-5797e0308895",
   "metadata": {},
   "outputs": [],
   "source": [
    "# dataset_name = \"re200-sr1etot\"\n",
    "dataset_name = \"prediction-a67107ff6b9c4ab6ad48546e70384b88\"\n",
    "dataset = Dataset.get_dataset_or_fail(dataset_name)\n"
   ]
  },
  {
   "cell_type": "code",
   "execution_count": 7,
   "id": "66e05d4e-d5e6-4210-9a88-a3caaa042fcf",
   "metadata": {},
   "outputs": [],
   "source": [
    "ds_test_name = \"re200-sr1etot\"\n",
    "ds_test = Dataset.get_dataset_or_fail(ds_test_name)"
   ]
  },
  {
   "cell_type": "code",
   "execution_count": 5,
   "id": "8169b52f-8852-45fa-9dda-4624b1bb47bb",
   "metadata": {},
   "outputs": [
    {
     "name": "stdout",
     "output_type": "stream",
     "text": [
      "Loading stds & means of dataset prediction-a67107ff6b9c4ab6ad48546e70384b88\n",
      "<space_exploration.beans.dataset_bean.Dataset object at 0x14e73b91fac0>\n",
      "<space_exploration.beans.training_bean.Training object at 0x14e9718e5ae0>\n",
      "None\n",
      "None\n"
     ]
    }
   ],
   "source": [
    "transform = TransformationReferences.Y_ALONG_COMPONENT_NORMALIZE.transformation(dataset, \"Y\")"
   ]
  },
  {
   "cell_type": "code",
   "execution_count": 8,
   "id": "51d54922-2a1b-4073-a242-e19476d760dd",
   "metadata": {},
   "outputs": [],
   "source": [
    "training_ds = transform.to_training(ds_test.y)"
   ]
  },
  {
   "cell_type": "code",
   "execution_count": 12,
   "id": "31f4d568-0ad6-4093-a889-00b1e46aa5e4",
   "metadata": {},
   "outputs": [
    {
     "data": {
      "text/plain": [
       "np.float32(0.18925382)"
      ]
     },
     "execution_count": 12,
     "metadata": {},
     "output_type": "execute_result"
    }
   ],
   "source": [
    "ds_test.y.mean().compute()"
   ]
  },
  {
   "cell_type": "code",
   "execution_count": 13,
   "id": "95243f93-15a3-4e20-bdd4-1ed11cbaa91e",
   "metadata": {},
   "outputs": [
    {
     "data": {
      "text/plain": [
       "np.float32(7.494743e-08)"
      ]
     },
     "execution_count": 13,
     "metadata": {},
     "output_type": "execute_result"
    }
   ],
   "source": [
    "training_ds.mean().compute()"
   ]
  },
  {
   "cell_type": "code",
   "execution_count": 14,
   "id": "9394c88c-a537-4d71-968b-9ec061a1cb35",
   "metadata": {},
   "outputs": [],
   "source": [
    "out_training_ds = transform.from_training(training_ds) "
   ]
  },
  {
   "cell_type": "code",
   "execution_count": 16,
   "id": "63f6ed3a-18de-4946-a4b3-fcb114c25e31",
   "metadata": {},
   "outputs": [
    {
     "data": {
      "text/plain": [
       "np.float32(0.18925393)"
      ]
     },
     "execution_count": 16,
     "metadata": {},
     "output_type": "execute_result"
    }
   ],
   "source": [
    "out_training_ds.mean().compute()"
   ]
  },
  {
   "cell_type": "code",
   "execution_count": 17,
   "id": "b07f1a9d-ddd9-49e4-a805-3ffa8b478908",
   "metadata": {},
   "outputs": [
    {
     "name": "stdout",
     "output_type": "stream",
     "text": [
      "Computing Benchmark Data\n",
      "Saving reynolds_uv\n",
      "Saving velocity_mean_along_y\n",
      "Saving velocity_std_along_y\n",
      "Saving squared_velocity_mean_along_y\n",
      "Saved benchmarks for re200-sr1etot\n"
     ]
    }
   ],
   "source": [
    "ds_test.benchmark.compute()"
   ]
  },
  {
   "cell_type": "code",
   "execution_count": null,
   "id": "a06365a5-434d-482e-a1c0-3e226b954075",
   "metadata": {},
   "outputs": [],
   "source": []
  }
 ],
 "metadata": {
  "kernelspec": {
   "display_name": "Python 3 (ipykernel)",
   "language": "python",
   "name": "python3"
  },
  "language_info": {
   "codemirror_mode": {
    "name": "ipython",
    "version": 3
   },
   "file_extension": ".py",
   "mimetype": "text/x-python",
   "name": "python",
   "nbconvert_exporter": "python",
   "pygments_lexer": "ipython3",
   "version": "3.10.12"
  }
 },
 "nbformat": 4,
 "nbformat_minor": 5
}
