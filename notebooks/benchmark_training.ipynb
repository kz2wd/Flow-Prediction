{
 "cells": [
  {
   "cell_type": "code",
   "execution_count": 2,
   "id": "2e3cc6af-9780-4fd3-b8cb-36f141d1d29e",
   "metadata": {},
   "outputs": [],
   "source": [
    "from space_exploration.beans.training_bean import Training\n",
    "from space_exploration.training.training import ModelTraining\n"
   ]
  },
  {
   "cell_type": "code",
   "execution_count": 3,
   "id": "573362f0-f2af-4210-bfd2-ef3d5cc6a107",
   "metadata": {},
   "outputs": [],
   "source": [
    "def full_benchmark(run_id):\n",
    "    bean = Training.get_training_or_fail(run_id)\n",
    "    training = ModelTraining.from_training_bean(bean)\n",
    "    training.load_model()\n",
    "    benchmark = training.get_benchmark()\n",
    "    benchmark.compute()"
   ]
  },
  {
   "cell_type": "code",
   "execution_count": 8,
   "id": "1d41bf37-d261-4e06-be19-86fa1ace9b6e",
   "metadata": {},
   "outputs": [
    {
     "name": "stdout",
     "output_type": "stream",
     "text": [
      "⌛ Fetching remote artifact at final_model/checkpoint_best.pt\n"
     ]
    },
    {
     "data": {
      "application/vnd.jupyter.widget-view+json": {
       "model_id": "ea0b99a4561847d2983af270fd7e7b84",
       "version_major": 2,
       "version_minor": 0
      },
      "text/plain": [
       "Downloading artifacts:   0%|          | 0/1 [00:00<?, ?it/s]"
      ]
     },
     "metadata": {},
     "output_type": "display_data"
    },
    {
     "name": "stdout",
     "output_type": "stream",
     "text": [
      "✅ Successfully loaded model\n",
      "🕓 Computing predictions...\n",
      "Loading std & mean of dataset re200-sr1etot\n",
      "Loading stds & means of dataset re200-sr1etot\n",
      "⌛ Initializing Dataset...\n",
      "X...\n",
      "[########################################] | 100% Completed | 561.01 ms\n",
      "Y...\n",
      "[########################################] | 100% Completed | 8.02 ss\n"
     ]
    },
    {
     "name": "stderr",
     "output_type": "stream",
     "text": [
      "Testing: 100%|██████████████████████████████████████████████████████████████████████| 1000/1000 [01:15<00:00, 13.20it/s]\n"
     ]
    },
    {
     "name": "stdout",
     "output_type": "stream",
     "text": [
      "Computing Benchmark Data\n",
      "target mean: 7.001749327173457e-05\n",
      "prediction mean 0.0077595217153429985\n",
      "Loading stds & means of dataset re200-sr05etot\n",
      "Saving paper_like_mse_along_y\n",
      "Saving real_mse_along_y\n",
      "Generating prediction dataset benchmark\n",
      "Loading stds & means of dataset prediction-a67107ff\n",
      "Saving reynolds_uv\n",
      "Saving velocity_mean_along_y\n",
      "Saving velocity_std_along_y\n",
      "Saving squared_velocity_mean_along_y\n",
      "Saved benchmarks for prediction-a67107ff\n",
      "Saved benchmarks for A_re200-sr05etot_20001_4\n"
     ]
    }
   ],
   "source": [
    "full_benchmark(\"a67107ff6b9c4ab6ad48546e70384b88\")"
   ]
  },
  {
   "cell_type": "code",
   "execution_count": 9,
   "id": "58951708-8452-4392-8897-b545b7d8ff1c",
   "metadata": {},
   "outputs": [
    {
     "name": "stdout",
     "output_type": "stream",
     "text": [
      "⌛ Fetching remote artifact at final_model/checkpoint_best.pt\n"
     ]
    },
    {
     "data": {
      "application/vnd.jupyter.widget-view+json": {
       "model_id": "44fe6b4b312e45369128de8b3df58e3f",
       "version_major": 2,
       "version_minor": 0
      },
      "text/plain": [
       "Downloading artifacts:   0%|          | 0/1 [00:00<?, ?it/s]"
      ]
     },
     "metadata": {},
     "output_type": "display_data"
    },
    {
     "name": "stdout",
     "output_type": "stream",
     "text": [
      "✅ Successfully loaded model\n",
      "🕓 Computing predictions...\n",
      "Loading std & mean of dataset re200-sr1etot\n",
      "Loading std & mean of dataset re200-sr1etot\n",
      "⌛ Initializing Dataset...\n",
      "X...\n",
      "[########################################] | 100% Completed | 538.82 ms\n",
      "Y...\n",
      "[########################################] | 100% Completed | 5.85 sms\n"
     ]
    },
    {
     "name": "stderr",
     "output_type": "stream",
     "text": [
      "Testing: 100%|██████████████████████████████████████████████████████████████████████| 1000/1000 [01:18<00:00, 12.69it/s]\n"
     ]
    },
    {
     "name": "stdout",
     "output_type": "stream",
     "text": [
      "Computing Benchmark Data\n",
      "target mean: 4.891046046395786e-05\n",
      "prediction mean -0.0013043797807767987\n",
      "Loading std & mean of dataset re200-sr05etot\n",
      "Saving paper_like_mse_along_y\n",
      "Saving real_mse_along_y\n",
      "Generating prediction dataset benchmark\n",
      "Loading std & mean of dataset prediction-8b9eb377\n",
      "Saving reynolds_uv\n",
      "Saving velocity_mean_along_y\n",
      "Saving velocity_std_along_y\n",
      "Saving squared_velocity_mean_along_y\n",
      "Saved benchmarks for prediction-8b9eb377\n",
      "Saved benchmarks for A_re200-sr05etot_20001_4\n"
     ]
    }
   ],
   "source": [
    "full_benchmark(\"8b9eb377eef1489f8ec74a5c0b9a6bd5\")"
   ]
  },
  {
   "cell_type": "code",
   "execution_count": 10,
   "id": "9fd56f90-1018-4cfa-9d6f-e3df61e2e8df",
   "metadata": {},
   "outputs": [
    {
     "name": "stdout",
     "output_type": "stream",
     "text": [
      "⌛ Fetching remote artifact at final_model/checkpoint_latest.pt\n"
     ]
    },
    {
     "data": {
      "application/vnd.jupyter.widget-view+json": {
       "model_id": "6507d8ad3ee04ee2868907b5a470ea78",
       "version_major": 2,
       "version_minor": 0
      },
      "text/plain": [
       "Downloading artifacts:   0%|          | 0/1 [00:00<?, ?it/s]"
      ]
     },
     "metadata": {},
     "output_type": "display_data"
    },
    {
     "name": "stdout",
     "output_type": "stream",
     "text": [
      "🕓 Computing predictions...\n",
      "Loading std & mean of dataset re200-sr1etot\n",
      "Loading stds & means of dataset re200-sr1etot\n",
      "⌛ Initializing Dataset...\n",
      "X...\n",
      "[########################################] | 100% Completed | 631.68 ms\n",
      "Y...\n",
      "[########################################] | 100% Completed | 8.13 ss\n"
     ]
    },
    {
     "name": "stderr",
     "output_type": "stream",
     "text": [
      "Testing: 100%|██████████████████████████████████████████████████████████████████████| 1000/1000 [01:19<00:00, 12.61it/s]\n"
     ]
    },
    {
     "name": "stdout",
     "output_type": "stream",
     "text": [
      "Computing Benchmark Data\n",
      "target mean: 7.001749327173457e-05\n",
      "prediction mean 0.004510775208473206\n",
      "Loading stds & means of dataset re200-sr005etot\n",
      "Saving paper_like_mse_along_y\n",
      "Saving real_mse_along_y\n",
      "Generating prediction dataset benchmark\n",
      "Loading stds & means of dataset prediction-73343585\n",
      "Saving reynolds_uv\n",
      "Saving velocity_mean_along_y\n",
      "Saving velocity_std_along_y\n",
      "Saving squared_velocity_mean_along_y\n",
      "Saved benchmarks for prediction-73343585\n",
      "Saved benchmarks for A_re200-sr005etot_10000_4\n"
     ]
    }
   ],
   "source": [
    "run_id = \"733435856c964814873ab7fbc1db1003\"\n",
    "bean = Training.get_training_or_fail(run_id)\n",
    "training = ModelTraining.from_training_bean(bean)\n",
    "training.model.custom_load(run_id, \"final_model/checkpoint_latest.pt\")\n",
    "benchmark = training.get_benchmark()\n",
    "benchmark.compute()"
   ]
  },
  {
   "cell_type": "code",
   "execution_count": 3,
   "id": "119fd4d8-aa70-46f1-8c60-fd3737cbcc46",
   "metadata": {},
   "outputs": [
    {
     "name": "stdout",
     "output_type": "stream",
     "text": [
      "⌛ Fetching remote artifact at final_model/checkpoint_best.pt\n"
     ]
    },
    {
     "data": {
      "application/vnd.jupyter.widget-view+json": {
       "model_id": "6b8b49c996b640039fe0c2ca4cfc5f62",
       "version_major": 2,
       "version_minor": 0
      },
      "text/plain": [
       "Downloading artifacts:   0%|          | 0/1 [00:00<?, ?it/s]"
      ]
     },
     "metadata": {},
     "output_type": "display_data"
    },
    {
     "name": "stdout",
     "output_type": "stream",
     "text": [
      "✅ Successfully loaded model\n",
      "🕓 Computing predictions...\n",
      "Loading std & mean of dataset re200-sr1etot\n",
      "Loading stds & means of dataset re200-sr1etot\n",
      "⌛ Initializing Dataset...\n",
      "X...\n",
      "[########################################] | 100% Completed | 548.34 ms\n",
      "Y...\n",
      "[########################################] | 100% Completed | 8.26 ss\n"
     ]
    },
    {
     "name": "stderr",
     "output_type": "stream",
     "text": [
      "Testing: 100%|██████████████████████████████████████████████████████████████████████| 1000/1000 [01:13<00:00, 13.54it/s]\n"
     ]
    },
    {
     "name": "stdout",
     "output_type": "stream",
     "text": [
      "Computing Benchmark Data\n",
      "target mean: 7.001749327173457e-05\n",
      "prediction mean 0.03164264187216759\n",
      "Loading stds & means of dataset re200-sr05etot\n",
      "Saving paper_like_mse_along_y\n",
      "Saving real_mse_along_y\n",
      "Generating prediction dataset benchmark\n",
      "Loading stds & means of dataset prediction-1881046f\n",
      "Saving reynolds_uv\n",
      "Saving velocity_mean_along_y\n",
      "Saving velocity_std_along_y\n",
      "Saving squared_velocity_mean_along_y\n",
      "Saved benchmarks for prediction-1881046f\n",
      "Saved benchmarks for 1881046f387b4c5797f2a742e0742639-wall decoder test\n"
     ]
    }
   ],
   "source": [
    "full_benchmark(\"1881046f387b4c5797f2a742e0742639\")"
   ]
  },
  {
   "cell_type": "code",
   "execution_count": 3,
   "id": "affd0265-4a15-4449-837b-1415b37a2f16",
   "metadata": {},
   "outputs": [
    {
     "name": "stdout",
     "output_type": "stream",
     "text": [
      "⌛ Fetching remote artifact at final_model/checkpoint_best.pt\n"
     ]
    },
    {
     "data": {
      "application/vnd.jupyter.widget-view+json": {
       "model_id": "0f0d336a943a4255b9256e7c901c78a6",
       "version_major": 2,
       "version_minor": 0
      },
      "text/plain": [
       "Downloading artifacts:   0%|          | 0/1 [00:00<?, ?it/s]"
      ]
     },
     "metadata": {},
     "output_type": "display_data"
    },
    {
     "name": "stdout",
     "output_type": "stream",
     "text": [
      "✅ Successfully loaded model\n",
      "🕓 Computing predictions...\n",
      "Loading std & mean of dataset re200-sr1etot\n",
      "Loading stds & means of dataset re200-sr1etot\n",
      "⌛ Initializing Dataset...\n",
      "X...\n",
      "[########################################] | 100% Completed | 553.08 ms\n",
      "Y...\n",
      "[########################################] | 100% Completed | 5.62 ss\n"
     ]
    },
    {
     "name": "stderr",
     "output_type": "stream",
     "text": [
      "Testing: 100%|██████████████████████████████████████████████████████████████████████| 1000/1000 [01:23<00:00, 12.04it/s]\n"
     ]
    },
    {
     "name": "stdout",
     "output_type": "stream",
     "text": [
      "Computing Benchmark Data\n",
      "target mean: 0.0001127904251916334\n",
      "prediction mean 0.0007203146815299988\n",
      "Loading stds & means of dataset re200-sr05etot\n",
      "Saving paper_like_mse_along_y\n",
      "Saving real_mse_along_y\n",
      "Generating prediction dataset benchmark\n",
      "Loading stds & means of dataset prediction-1ba42b1d\n",
      "Saving reynolds_uv\n",
      "Saving velocity_mean_along_y\n",
      "Saving velocity_std_along_y\n",
      "Saving squared_velocity_mean_along_y\n",
      "Saved benchmarks for prediction-1ba42b1d\n",
      "Saved benchmarks for 1ba42b1da604498191350b225818172c-C_re200-sr05etot_20001_4\n"
     ]
    }
   ],
   "source": [
    "full_benchmark(\"1ba42b1da604498191350b225818172c\")"
   ]
  },
  {
   "cell_type": "code",
   "execution_count": 3,
   "id": "a3704828-1bcd-4f33-9772-3fe8c2f786d7",
   "metadata": {},
   "outputs": [
    {
     "name": "stdout",
     "output_type": "stream",
     "text": [
      "⌛ Fetching remote artifact at final_model/checkpoint_best.pt\n"
     ]
    },
    {
     "data": {
      "application/vnd.jupyter.widget-view+json": {
       "model_id": "ef776289da3246cdbbecdbb1b962081f",
       "version_major": 2,
       "version_minor": 0
      },
      "text/plain": [
       "Downloading artifacts:   0%|          | 0/1 [00:00<?, ?it/s]"
      ]
     },
     "metadata": {},
     "output_type": "display_data"
    },
    {
     "name": "stdout",
     "output_type": "stream",
     "text": [
      "✅ Successfully loaded model\n",
      "🕓 Computing predictions...\n",
      "Loading std & mean of dataset re200-sr1etot\n",
      "Loading stds & means of dataset re200-sr1etot\n",
      "⌛ Initializing Dataset...\n",
      "X...\n",
      "[########################################] | 100% Completed | 563.36 ms\n",
      "Y...\n",
      "[########################################] | 100% Completed | 8.80 ss\n"
     ]
    },
    {
     "name": "stderr",
     "output_type": "stream",
     "text": [
      "Testing: 100%|██████████████████████████████████████████████████████████████████████| 1000/1000 [01:14<00:00, 13.47it/s]\n"
     ]
    },
    {
     "name": "stdout",
     "output_type": "stream",
     "text": [
      "Computing Benchmark Data\n",
      "target mean: 7.001749327173457e-05\n",
      "prediction mean 0.01710529625415802\n",
      "Loading stds & means of dataset re200-sr05etot\n",
      "Saving paper_like_mse_along_y\n",
      "Saving real_mse_along_y\n",
      "Generating prediction dataset benchmark\n",
      "Loading stds & means of dataset prediction-b1fedf97\n",
      "Saving reynolds_uv\n",
      "Saving velocity_mean_along_y\n",
      "Saving velocity_std_along_y\n",
      "Saving squared_velocity_mean_along_y\n",
      "Saved benchmarks for prediction-b1fedf97\n",
      "Saved benchmarks for b1fedf978ca1471ea2b641e4774c256a-wall decoder only\n"
     ]
    }
   ],
   "source": [
    "full_benchmark(\"b1fedf978ca1471ea2b641e4774c256a\")"
   ]
  },
  {
   "cell_type": "code",
   "execution_count": 4,
   "id": "7fd0db75-6cda-4c1c-98bb-ea8c1c3e5e7a",
   "metadata": {},
   "outputs": [
    {
     "name": "stdout",
     "output_type": "stream",
     "text": [
      "⌛ Fetching remote artifact at final_model/checkpoint_best.pt\n"
     ]
    },
    {
     "data": {
      "application/vnd.jupyter.widget-view+json": {
       "model_id": "3dea1f34e5864adba20142ba478fc203",
       "version_major": 2,
       "version_minor": 0
      },
      "text/plain": [
       "Downloading artifacts:   0%|          | 0/1 [00:00<?, ?it/s]"
      ]
     },
     "metadata": {},
     "output_type": "display_data"
    },
    {
     "name": "stdout",
     "output_type": "stream",
     "text": [
      "✅ Successfully loaded model\n",
      "🕓 Computing predictions...\n",
      "Loading std & mean of dataset re200-sr1etot\n",
      "Loading stds & means of dataset re200-sr1etot\n",
      "⌛ Initializing Dataset...\n",
      "X...\n",
      "[########################################] | 100% Completed | 553.02 ms\n",
      "Y...\n",
      "[########################################] | 100% Completed | 8.37 ss\n"
     ]
    },
    {
     "name": "stderr",
     "output_type": "stream",
     "text": [
      "Testing: 100%|██████████████████████████████████████████████████████████████████████| 1000/1000 [01:15<00:00, 13.25it/s]\n"
     ]
    },
    {
     "name": "stdout",
     "output_type": "stream",
     "text": [
      "Computing Benchmark Data\n",
      "target mean: 7.001749327173457e-05\n",
      "prediction mean 0.022497789934277534\n",
      "Loading stds & means of dataset re200-sr05etot\n",
      "Saving paper_like_mse_along_y\n",
      "Saving real_mse_along_y\n",
      "Generating prediction dataset benchmark\n",
      "Loading stds & means of dataset prediction-9032f405\n",
      "Saving reynolds_uv\n",
      "Saving velocity_mean_along_y\n",
      "Saving velocity_std_along_y\n",
      "Saving squared_velocity_mean_along_y\n",
      "Saved benchmarks for prediction-9032f405\n",
      "Saved benchmarks for 9032f4055c704ef69b1b44f237929894-a67-discri-tuned:1e-2\n"
     ]
    }
   ],
   "source": [
    "full_benchmark(\"9032f4055c704ef69b1b44f237929894\")"
   ]
  },
  {
   "cell_type": "code",
   "execution_count": 3,
   "id": "e6985a65-9656-4574-8cdf-9b4d65fb87dd",
   "metadata": {},
   "outputs": [
    {
     "name": "stdout",
     "output_type": "stream",
     "text": [
      "⌛ Fetching remote artifact at final_model/checkpoint_best.pt\n"
     ]
    },
    {
     "data": {
      "application/vnd.jupyter.widget-view+json": {
       "model_id": "dba9554f7f9b481a8ebab81afa689219",
       "version_major": 2,
       "version_minor": 0
      },
      "text/plain": [
       "Downloading artifacts:   0%|          | 0/1 [00:00<?, ?it/s]"
      ]
     },
     "metadata": {},
     "output_type": "display_data"
    },
    {
     "name": "stdout",
     "output_type": "stream",
     "text": [
      "✅ Successfully loaded model\n",
      "🕓 Computing predictions...\n",
      "Loading std & mean of dataset re200-sr1etot\n",
      "Loading stds & means of dataset re200-sr1etot\n",
      "⌛ Initializing Dataset...\n",
      "X...\n",
      "[########################################] | 100% Completed | 11.19 s\n",
      "Y...\n",
      "[########################################] | 100% Completed | 8.15 ss\n"
     ]
    },
    {
     "name": "stderr",
     "output_type": "stream",
     "text": [
      "Testing: 100%|██████████████████████████████████████████████████████████████████████| 1000/1000 [00:14<00:00, 68.79it/s]\n"
     ]
    },
    {
     "name": "stdout",
     "output_type": "stream",
     "text": [
      "Computing Benchmark Data\n",
      "target mean: 7.001749327173457e-05\n",
      "prediction mean 0.027097603306174278\n",
      "Loading stds & means of dataset re200-sr05etot\n",
      "Saving paper_like_mse_along_y\n",
      "Saving real_mse_along_y\n",
      "Generating prediction dataset benchmark\n",
      "Loading stds & means of dataset prediction-c62e2de1\n",
      "Saving reynolds_uv\n",
      "Saving velocity_mean_along_y\n",
      "Saving velocity_std_along_y\n",
      "Saving squared_velocity_mean_along_y\n",
      "Saved benchmarks for prediction-c62e2de1\n",
      "Saved benchmarks for c62e2de13afc43da940be57a805e584a-Unet test\n"
     ]
    }
   ],
   "source": [
    "full_benchmark(\"c62e2de13afc43da940be57a805e584a\")"
   ]
  },
  {
   "cell_type": "code",
   "execution_count": 4,
   "id": "dc666969-0d74-4da2-818f-ab06a2a0b804",
   "metadata": {},
   "outputs": [
    {
     "name": "stdout",
     "output_type": "stream",
     "text": [
      "⌛ Fetching remote artifact at final_model/checkpoint_best.pt\n"
     ]
    },
    {
     "data": {
      "application/vnd.jupyter.widget-view+json": {
       "model_id": "f87acd161eec4a6db2d8ef0426ceb61a",
       "version_major": 2,
       "version_minor": 0
      },
      "text/plain": [
       "Downloading artifacts:   0%|          | 0/1 [00:00<?, ?it/s]"
      ]
     },
     "metadata": {},
     "output_type": "display_data"
    },
    {
     "name": "stdout",
     "output_type": "stream",
     "text": [
      "✅ Successfully loaded model\n",
      "🕓 Computing predictions...\n",
      "Loading std & mean of dataset re200-sr1etot\n",
      "Loading stds & means of dataset re200-sr1etot\n",
      "⌛ Initializing Dataset...\n",
      "X...\n",
      "[########################################] | 100% Completed | 11.62 s\n",
      "Y...\n",
      "[########################################] | 100% Completed | 9.18 ss\n"
     ]
    },
    {
     "name": "stderr",
     "output_type": "stream",
     "text": [
      "Testing: 100%|██████████████████████████████████████████████████████████████████████| 1000/1000 [00:16<00:00, 61.64it/s]\n"
     ]
    },
    {
     "name": "stdout",
     "output_type": "stream",
     "text": [
      "Computing Benchmark Data\n",
      "target mean: 7.001749327173457e-05\n",
      "prediction mean -0.0037877075374126434\n",
      "Loading stds & means of dataset re200-sr05etot\n",
      "Saving paper_like_mse_along_y\n",
      "Saving real_mse_along_y\n",
      "Generating prediction dataset benchmark\n",
      "Loading stds & means of dataset prediction-230d34f8\n",
      "Saving reynolds_uv\n",
      "Saving velocity_mean_along_y\n",
      "Saving velocity_std_along_y\n",
      "Saving squared_velocity_mean_along_y\n",
      "Saved benchmarks for prediction-230d34f8\n",
      "Saved benchmarks for 230d34f89ce647c282394f08730e63e9-Unet simple\n"
     ]
    }
   ],
   "source": [
    "full_benchmark(\"230d34f89ce647c282394f08730e63e9\")"
   ]
  },
  {
   "cell_type": "code",
   "execution_count": 4,
   "id": "13b97bcb-9390-4afc-b906-aa41688b4813",
   "metadata": {},
   "outputs": [
    {
     "name": "stdout",
     "output_type": "stream",
     "text": [
      "⌛ Fetching remote artifact at final_model/checkpoint_best.pt\n"
     ]
    },
    {
     "data": {
      "application/vnd.jupyter.widget-view+json": {
       "model_id": "3ed6f8153c174d7a8764a3f0d129096e",
       "version_major": 2,
       "version_minor": 0
      },
      "text/plain": [
       "Downloading artifacts:   0%|          | 0/1 [00:00<?, ?it/s]"
      ]
     },
     "metadata": {},
     "output_type": "display_data"
    },
    {
     "name": "stdout",
     "output_type": "stream",
     "text": [
      "✅ Successfully loaded model\n",
      "🕓 Computing predictions...\n",
      "Loading std & mean of dataset re200-sr1etot\n",
      "Loading stds & means of dataset re200-sr1etot\n",
      "⌛ Initializing Dataset...\n",
      "X...\n",
      "[########################################] | 100% Completed | 418.34 ms\n",
      "Y...\n",
      "[########################################] | 100% Completed | 5.59 ss\n"
     ]
    },
    {
     "name": "stderr",
     "output_type": "stream",
     "text": [
      "Testing: 100%|██████████████████████████████████████████████████████████████████████| 1000/1000 [01:15<00:00, 13.29it/s]\n"
     ]
    },
    {
     "name": "stdout",
     "output_type": "stream",
     "text": [
      "Computing Benchmark Data\n",
      "target mean: 7.001749327173457e-05\n",
      "prediction mean -0.004008881747722626\n",
      "Loading stds & means of dataset re200-sr05etot\n",
      "Saving paper_like_mse_along_y\n",
      "Saving real_mse_along_y\n",
      "Generating prediction dataset benchmark\n",
      "Loading stds & means of dataset prediction-d8daaee5\n",
      "Saving reynolds_uv\n",
      "Saving velocity_mean_along_y\n",
      "Saving velocity_std_along_y\n",
      "Saving squared_velocity_mean_along_y\n",
      "Saved benchmarks for prediction-d8daaee5\n",
      "Saved benchmarks for d8daaee5ee71442686a2017b3972dded-discri:1e-2\n"
     ]
    }
   ],
   "source": [
    "full_benchmark(\"d8daaee5ee71442686a2017b3972dded\")"
   ]
  },
  {
   "cell_type": "code",
   "execution_count": 4,
   "id": "bdf0129d-1fca-4856-86bc-e7f1d57c7e1a",
   "metadata": {},
   "outputs": [
    {
     "name": "stdout",
     "output_type": "stream",
     "text": [
      "⌛ Fetching remote artifact at final_model/checkpoint_best.pt\n"
     ]
    },
    {
     "data": {
      "application/vnd.jupyter.widget-view+json": {
       "model_id": "c3155772172d42fbbdd0fd5d498cab13",
       "version_major": 2,
       "version_minor": 0
      },
      "text/plain": [
       "Downloading artifacts:   0%|          | 0/1 [00:00<?, ?it/s]"
      ]
     },
     "metadata": {},
     "output_type": "display_data"
    },
    {
     "name": "stdout",
     "output_type": "stream",
     "text": [
      "✅ Successfully loaded model\n",
      "🕓 Computing predictions...\n",
      "Loading std & mean of dataset re200-sr1etot\n",
      "Loading stds & means of dataset re200-sr1etot\n",
      "⌛ Initializing Dataset...\n",
      "X...\n",
      "[########################################] | 100% Completed | 524.11 ms\n",
      "Y...\n",
      "[########################################] | 100% Completed | 5.46 ss\n"
     ]
    },
    {
     "name": "stderr",
     "output_type": "stream",
     "text": [
      "Testing: 100%|██████████████████████████████████████████████████████████████████████| 1000/1000 [01:13<00:00, 13.54it/s]\n"
     ]
    },
    {
     "name": "stdout",
     "output_type": "stream",
     "text": [
      "Computing Benchmark Data\n",
      "target mean: 7.001749327173457e-05\n",
      "prediction mean 0.01151276659220457\n",
      "Loading stds & means of dataset re200-sr05etot\n",
      "Saving paper_like_mse_along_y\n",
      "Saving real_mse_along_y\n",
      "Generating prediction dataset benchmark\n",
      "Loading stds & means of dataset prediction-c1131be2\n",
      "Saving reynolds_uv\n",
      "Saving velocity_mean_along_y\n",
      "Saving velocity_std_along_y\n",
      "Saving squared_velocity_mean_along_y\n",
      "Saved benchmarks for prediction-c1131be2\n",
      "Saved benchmarks for c1131be2732c4ead94612f31d25d6931-discri:1e-1\n"
     ]
    }
   ],
   "source": [
    "full_benchmark(\"c1131be2732c4ead94612f31d25d6931\")"
   ]
  },
  {
   "cell_type": "code",
   "execution_count": null,
   "id": "27bca14c-d0dd-4c78-9c32-83c7f80c46a7",
   "metadata": {},
   "outputs": [],
   "source": []
  }
 ],
 "metadata": {
  "kernelspec": {
   "display_name": "Python 3 (ipykernel)",
   "language": "python",
   "name": "python3"
  },
  "language_info": {
   "codemirror_mode": {
    "name": "ipython",
    "version": 3
   },
   "file_extension": ".py",
   "mimetype": "text/x-python",
   "name": "python",
   "nbconvert_exporter": "python",
   "pygments_lexer": "ipython3",
   "version": "3.10.12"
  }
 },
 "nbformat": 4,
 "nbformat_minor": 5
}
